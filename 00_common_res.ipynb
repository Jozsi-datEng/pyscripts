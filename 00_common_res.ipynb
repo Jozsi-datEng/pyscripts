{
 "cells": [
  {
   "cell_type": "markdown",
   "metadata": {},
   "source": [
    "### Resources used by multiple scripts"
   ]
  },
  {
   "cell_type": "code",
   "execution_count": 1,
   "metadata": {},
   "outputs": [],
   "source": [
    "# venv preparations\n",
    "# pip install nbformat\n",
    "# pip install beautifulsoup4\n",
    "# pip install requests\n",
    "# pip install pandas\n",
    "# pip install boto3\n",
    "\n",
    "# imports\n",
    "from datetime import datetime\n",
    "from dateutil.relativedelta import relativedelta\n",
    "\n",
    "# workspace variables\n",
    "s_path_sep = '\\\\'\n",
    "s_base_path = r'D:\\Users\\user_py\\Documents\\Python Scripts\\DataEng'\n",
    "s_dir_data = 'datafiles'\n",
    "s_file_playlist = 'spotify_playlist.json'\n",
    "s_path_playlist = s_path_sep.join([s_base_path, s_dir_data, s_file_playlist])\n",
    "s_path_area_master = s_path_sep.join([s_base_path, s_dir_data, 'community_areas.csv'])\n",
    "s_path_weather_data = s_path_sep.join([s_base_path, s_dir_data, 'weather_data.csv'])\n",
    "s_path_date = s_path_sep.join([s_base_path, s_dir_data, 'date.csv'])\n",
    "\n",
    "formatted_date = datetime.now().date() - relativedelta(months=2)\n",
    "\n",
    "# print(formatted_date)"
   ]
  }
 ],
 "metadata": {
  "kernelspec": {
   "display_name": ".venv",
   "language": "python",
   "name": "python3"
  },
  "language_info": {
   "codemirror_mode": {
    "name": "ipython",
    "version": 3
   },
   "file_extension": ".py",
   "mimetype": "text/x-python",
   "name": "python",
   "nbconvert_exporter": "python",
   "pygments_lexer": "ipython3",
   "version": "3.12.4"
  }
 },
 "nbformat": 4,
 "nbformat_minor": 2
}
