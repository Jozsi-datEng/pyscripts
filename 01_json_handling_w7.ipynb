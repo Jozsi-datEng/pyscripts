{
 "cells": [
  {
   "cell_type": "code",
   "execution_count": null,
   "metadata": {},
   "outputs": [],
   "source": [
    "# imports and init common resources\n",
    "import json\n",
    "%run \"00_common_res.ipynb\"\n",
    "\n",
    "\n",
    "\n",
    "with open(s_path_playlist, 'r') as json_file:\n",
    "    js_data = json.load(json_file)\n",
    "\n",
    "# js_data"
   ]
  },
  {
   "cell_type": "code",
   "execution_count": null,
   "metadata": {},
   "outputs": [],
   "source": [
    "# access 1 items name\n",
    "js_data['contents']['items'][0]['name']"
   ]
  },
  {
   "cell_type": "code",
   "execution_count": null,
   "metadata": {},
   "outputs": [],
   "source": [
    "# access all item names and its play counts\n",
    "for i, track in enumerate(js_data['contents']['items']):\n",
    "    print(i+1, 'track name:', track['name'], '| play count:', track['playCount'])"
   ]
  }
 ],
 "metadata": {
  "kernelspec": {
   "display_name": ".venv",
   "language": "python",
   "name": "python3"
  },
  "language_info": {
   "codemirror_mode": {
    "name": "ipython",
    "version": 3
   },
   "file_extension": ".py",
   "mimetype": "text/x-python",
   "name": "python",
   "nbconvert_exporter": "python",
   "pygments_lexer": "ipython3",
   "version": "3.12.4"
  }
 },
 "nbformat": 4,
 "nbformat_minor": 2
}
