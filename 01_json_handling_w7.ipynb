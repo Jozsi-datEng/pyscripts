{
 "cells": [
  {
   "cell_type": "code",
   "execution_count": 2,
   "metadata": {},
   "outputs": [],
   "source": [
    "# json handling\n",
    "import json\n",
    "\n",
    "s_path_sep = '\\\\'\n",
    "s_base_path = r'D:\\Users\\user_py\\Documents\\Python Scripts\\DataEng\\w7'\n",
    "s_dir_data = r'data'\n",
    "s_file_playlist = 'spotify_playlist.json'\n",
    "s_path_playlist = s_path_sep.join([s_base_path, s_dir_data, s_file_playlist])\n",
    "\n",
    "with open(s_path_playlist, 'r') as json_file:\n",
    "    js_data = json.load(json_file)\n",
    "\n",
    "# js_data"
   ]
  },
  {
   "cell_type": "code",
   "execution_count": 3,
   "metadata": {},
   "outputs": [
    {
     "data": {
      "text/plain": [
       "'3D (feat. Jack Harlow)'"
      ]
     },
     "execution_count": 3,
     "metadata": {},
     "output_type": "execute_result"
    }
   ],
   "source": [
    "# access 1 items name\n",
    "js_data['contents']['items'][0]['name']"
   ]
  },
  {
   "cell_type": "code",
   "execution_count": 7,
   "metadata": {},
   "outputs": [
    {
     "name": "stdout",
     "output_type": "stream",
     "text": [
      "1 track name: 3D (feat. Jack Harlow) | play count: 30569756\n",
      "2 track name: Seven (feat. Latto) (Explicit Ver.) | play count: 825957263\n",
      "3 track name: Paint The Town Red | play count: 356592711\n",
      "4 track name: greedy | play count: 74959220\n",
      "5 track name: Strangers | play count: 110198354\n",
      "6 track name: Cruel Summer | play count: 1151554203\n",
      "7 track name: QLONA | play count: 196461114\n",
      "8 track name: LALA | play count: 470247058\n",
      "9 track name: Si No Estás | play count: 24413575\n",
      "10 track name: vampire | play count: 432858794\n",
      "11 track name: UN PREVIEW | play count: 29712924\n",
      "12 track name: fukumean | play count: 341014134\n",
      "13 track name: I Wanna Be Yours | play count: 1483444237\n",
      "14 track name: What Was I Made For? [From The Motion Picture \"Barbie\"] | play count: 344168581\n",
      "15 track name: LADY GAGA | play count: 282928846\n",
      "16 track name: Columbia | play count: 326179824\n",
      "17 track name: Dance The Night - From Barbie The Album | play count: 412675720\n",
      "18 track name: Daylight | play count: 598705196\n",
      "19 track name: Prada | play count: 108629879\n",
      "20 track name: As It Was | play count: 2708288511\n",
      "21 track name: Starboy | play count: 2714056733\n",
      "22 track name: Kill Bill | play count: 1354228715\n",
      "23 track name: Que Onda | play count: 77004685\n",
      "24 track name: Chaleya | play count: 89028576\n",
      "25 track name: bad idea right? | play count: 169009521\n",
      "26 track name: Según Quién | play count: 59731033\n",
      "27 track name: My Love Mine All Mine | play count: 33302347\n",
      "28 track name: I Remember Everything (feat. Kacey Musgraves) | play count: 97820711\n",
      "29 track name: Blank Space | play count: 1514020374\n",
      "30 track name: Primera Cita | play count: 232720041\n",
      "31 track name: Style | play count: 946521797\n",
      "32 track name: Die For You | play count: 1794007610\n",
      "33 track name: Sprinter | play count: 396579126\n",
      "34 track name: Sweater Weather | play count: 2409314138\n",
      "35 track name: Slow Dancing | play count: 88232115\n",
      "36 track name: Another Love | play count: 1945986950\n",
      "37 track name: Popular (with Playboi Carti & Madonna) - Music from the HBO Original Series | play count: 280865681\n",
      "38 track name: Classy 101 | play count: 511503353\n",
      "39 track name: Anti-Hero | play count: 1152223713\n",
      "40 track name: Holanda | play count: 119389528\n",
      "41 track name: Flowers | play count: 1505384084\n",
      "42 track name: Super Shy | play count: 263511015\n",
      "43 track name: I KNOW ? | play count: 151877671\n",
      "44 track name: Snooze | play count: 522751233\n",
      "45 track name: get him back! | play count: 76823188\n",
      "46 track name: Heeriye (feat. Arijit Singh) | play count: 111564028\n",
      "47 track name: we fell in love in october | play count: 782430186\n",
      "48 track name: un x100to | play count: 675308826\n",
      "49 track name: Ella Baila Sola | play count: 899798987\n",
      "50 track name: Agora Hills | play count: 24556342\n"
     ]
    }
   ],
   "source": [
    "# access all item names and its play counts\n",
    "for i, track in enumerate(js_data['contents']['items']):\n",
    "    print(i+1, 'track name:', track['name'], '| play count:', track['playCount'])"
   ]
  },
  {
   "cell_type": "code",
   "execution_count": null,
   "metadata": {},
   "outputs": [],
   "source": []
  }
 ],
 "metadata": {
  "kernelspec": {
   "display_name": ".venv",
   "language": "python",
   "name": "python3"
  },
  "language_info": {
   "codemirror_mode": {
    "name": "ipython",
    "version": 3
   },
   "file_extension": ".py",
   "mimetype": "text/x-python",
   "name": "python",
   "nbconvert_exporter": "python",
   "pygments_lexer": "ipython3",
   "version": "3.12.4"
  }
 },
 "nbformat": 4,
 "nbformat_minor": 2
}
