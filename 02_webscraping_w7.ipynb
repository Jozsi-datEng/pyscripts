{
 "cells": [
  {
   "cell_type": "code",
   "execution_count": null,
   "metadata": {},
   "outputs": [],
   "source": [
    "# imports and init common resources\n",
    "from bs4 import BeautifulSoup\n",
    "import requests, pandas as pd\n",
    "%run \"00_common_res.ipynb\""
   ]
  },
  {
   "cell_type": "code",
   "execution_count": null,
   "metadata": {},
   "outputs": [],
   "source": [
    "# request send, get response\n",
    "rsp_wiki_page = requests.get('https://en.wikipedia.org/wiki/Community_areas_in_Chicago')\n",
    "sup_wiki_page_cont = BeautifulSoup(rsp_wiki_page.content, 'html.parser')\n",
    "# print(sup_wiki_page_cont.prettify()) # readable format\n",
    "s_title = sup_wiki_page_cont.find(id = 'firstHeading')\n",
    "\n",
    "print(s_title)\n",
    "print(s_title.string)"
   ]
  },
  {
   "cell_type": "code",
   "execution_count": null,
   "metadata": {},
   "outputs": [],
   "source": [
    "# all item that contans table\n",
    "set_all_table = sup_wiki_page_cont.findAll(\"table\")\n",
    "\n",
    "# table classes only\n",
    "for table in set_all_table:\n",
    "    print(table.get('class'))"
   ]
  },
  {
   "cell_type": "code",
   "execution_count": null,
   "metadata": {},
   "outputs": [],
   "source": [
    "# we need the \"Chicago community areas by number, population, and area\" from them\n",
    "table = sup_wiki_page_cont.find('table', class_ = 'wikitable sortable plainrowheaders mw-datatable')"
   ]
  },
  {
   "cell_type": "code",
   "execution_count": null,
   "metadata": {},
   "outputs": [],
   "source": [
    "for row in table.tbody.find_all('tr')[2: -1]:\n",
    "    print(row)\n",
    "    print('-' * 100)\n"
   ]
  },
  {
   "cell_type": "code",
   "execution_count": null,
   "metadata": {},
   "outputs": [],
   "source": [
    "for row in table.tbody.find_all('tr')[2: -1]:\n",
    "    cells = row.find_all('td')\n",
    "    print(cells[0].get_text(strip = True))"
   ]
  },
  {
   "cell_type": "code",
   "execution_count": null,
   "metadata": {},
   "outputs": [],
   "source": [
    "for row in table.tbody.find_all('tr')[2: -1]:\n",
    "    header_cells = row.find('th')\n",
    "    print(header_cells.a.get_text(strip = True))"
   ]
  },
  {
   "cell_type": "code",
   "execution_count": null,
   "metadata": {},
   "outputs": [],
   "source": [
    "# together\n",
    "\n",
    "ls_area_code_name = []\n",
    "\n",
    "for row in table.tbody.find_all('tr')[2: -1]:\n",
    "    cells = row.find_all('td')\n",
    "    header_cells = row.find('th')\n",
    "    area_code = cells[0].get_text(strip = True)\n",
    "    community_name = header_cells.a.get_text(strip = True)\n",
    "\n",
    "    ls_area_code_name.append({'area code': area_code, 'community name': community_name})\n"
   ]
  },
  {
   "cell_type": "code",
   "execution_count": null,
   "metadata": {},
   "outputs": [],
   "source": [
    "df_community_areas = pd.DataFrame(ls_area_code_name)\n",
    "\n",
    "print(df_community_areas.info())\n",
    "df_community_areas['area code'] = df_community_areas['area code'].astype('int')\n",
    "print(df_community_areas.info())\n"
   ]
  },
  {
   "cell_type": "code",
   "execution_count": null,
   "metadata": {},
   "outputs": [],
   "source": [
    "# save result\n",
    "df_community_areas.to_csv(s_path_area_master, sep=';', index=False)"
   ]
  }
 ],
 "metadata": {
  "kernelspec": {
   "display_name": ".venv",
   "language": "python",
   "name": "python3"
  },
  "language_info": {
   "codemirror_mode": {
    "name": "ipython",
    "version": 3
   },
   "file_extension": ".py",
   "mimetype": "text/x-python",
   "name": "python",
   "nbconvert_exporter": "python",
   "pygments_lexer": "ipython3",
   "version": "3.12.4"
  }
 },
 "nbformat": 4,
 "nbformat_minor": 2
}
