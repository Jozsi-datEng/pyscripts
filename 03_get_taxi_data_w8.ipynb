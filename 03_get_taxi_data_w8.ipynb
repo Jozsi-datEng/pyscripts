{
 "cells": [
  {
   "cell_type": "code",
   "execution_count": null,
   "metadata": {},
   "outputs": [],
   "source": [
    "# imports and init common resources\n",
    "import requests\n",
    "%run \"00_common_res.ipynb\""
   ]
  },
  {
   "cell_type": "code",
   "execution_count": null,
   "metadata": {},
   "outputs": [],
   "source": [
    "# get 1 trip data from protal by API\n",
    "url_chportal_taxi_api = \"https://data.cityofchicago.org/resource/ajtu-isnz.json?trip_id=000001dd3888f74eaf131b0627d367e8c5b73cc4\"\n",
    "# headers = {'X-App-Token': os.environ.get('CHICAGO_API_TOKEN')}\n",
    "res_chportal_api = requests.get(url_chportal_taxi_api) #, headers\n",
    "\n",
    "res_chportal_api"
   ]
  },
  {
   "cell_type": "code",
   "execution_count": null,
   "metadata": {},
   "outputs": [],
   "source": [
    "# format to json\n",
    "js_taxi_data = res_chportal_api.json()\n",
    "js_taxi_data"
   ]
  },
  {
   "cell_type": "code",
   "execution_count": null,
   "metadata": {},
   "outputs": [],
   "source": [
    "# get 1 day trip data from protal by API\n",
    "\n",
    "url_chportal_taxi_api = (f\"https://data.cityofchicago.org/resource/ajtu-isnz.json?\"\n",
    "    f\"$where=trip_start_timestamp >= '{formatted_date}T00:00:00' \"\n",
    "    f\"AND trip_start_timestamp <= '{formatted_date}T23:59:59'&$limit=30000\")\n",
    "\n",
    "res_chportal_api = requests.get(url_chportal_taxi_api)\n",
    "\n",
    "res_chportal_api"
   ]
  },
  {
   "cell_type": "code",
   "execution_count": null,
   "metadata": {},
   "outputs": [],
   "source": [
    "# format to json\n",
    "js_taxi_data = res_chportal_api.json()\n",
    "\n",
    "len(js_taxi_data)\n",
    "js_taxi_data"
   ]
  }
 ],
 "metadata": {
  "kernelspec": {
   "display_name": ".venv",
   "language": "python",
   "name": "python3"
  },
  "language_info": {
   "codemirror_mode": {
    "name": "ipython",
    "version": 3
   },
   "file_extension": ".py",
   "mimetype": "text/x-python",
   "name": "python",
   "nbconvert_exporter": "python",
   "pygments_lexer": "ipython3",
   "version": "3.12.4"
  }
 },
 "nbformat": 4,
 "nbformat_minor": 2
}
