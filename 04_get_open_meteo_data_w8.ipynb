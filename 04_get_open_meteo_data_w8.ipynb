{
 "cells": [
  {
   "cell_type": "code",
   "execution_count": null,
   "metadata": {},
   "outputs": [],
   "source": [
    "import pandas as pd\n",
    "import requests\n",
    "from datetime import datetime\n",
    "from  dateutil.relativedelta import relativedelta\n",
    "\n",
    "formatted_date = datetime.now().date() - relativedelta(months=2)"
   ]
  },
  {
   "cell_type": "code",
   "execution_count": null,
   "metadata": {},
   "outputs": [],
   "source": [
    "# get 1 trip meto from protal by API - test\n",
    "url_chportal_meteo_api = \"https://archive-api.open-meteo.com/v1/era5?latitude=52.52&longitude=13.41&start_date=2021-01-01&end_date=2021-12-31&hourly=temperature_2m\"\n",
    "res_meteo_api = requests.get(url_chportal_meteo_api)\n",
    "\n",
    "res_meteo_api"
   ]
  },
  {
   "cell_type": "code",
   "execution_count": null,
   "metadata": {},
   "outputs": [],
   "source": [
    "# format to json\n",
    "js_meteo_data = res_meteo_api.json()\n",
    "js_meteo_data"
   ]
  },
  {
   "cell_type": "code",
   "execution_count": null,
   "metadata": {},
   "outputs": [],
   "source": [
    "# Meteto API - test\n",
    "url_chportal_meteo_api = \"https://archive-api.open-meteo.com/v1/era5?latitude=52.52&longitude=13.41&start_date=2021-01-01&end_date=2021-12-31&hourly=temperature_2m\"\n",
    "res_meteo_api = requests.get(url_chportal_meteo_api)\n",
    "\n",
    "js_meteo_data = res_meteo_api.json()\n",
    "js_meteo_data"
   ]
  },
  {
   "cell_type": "markdown",
   "metadata": {},
   "source": [
    "####Extract part"
   ]
  },
  {
   "cell_type": "code",
   "execution_count": null,
   "metadata": {},
   "outputs": [],
   "source": [
    "# get meteo data\n",
    "\n",
    "url = \"https://archive-api.open-meteo.com/v1/era5\"\n",
    "\n",
    "di_params = {\n",
    "\"latitude\": 41.85,\n",
    "\"longitude\": -87.65,\n",
    "\"start_date\": formatted_date,\n",
    "\"end_date\": formatted_date,\n",
    "\"hourly\": \"temperature_2m,wind_speed_10m,rain,precipitation\"\n",
    "}\n",
    "\n",
    "response = requests.get(url, params=di_params)\n",
    "weather_data = response.json()\n",
    "weather_data"
   ]
  },
  {
   "cell_type": "code",
   "execution_count": null,
   "metadata": {},
   "outputs": [],
   "source": [
    "# selected data to dataFrame\n",
    "di_meteo_data_filt = {\n",
    "    \"datetime\": weather_data[\"hourly\"][\"time\"],\n",
    "    \"tempretaure\": weather_data[\"hourly\"][\"temperature_2m\"],\n",
    "    \"wind_speed\": weather_data[\"hourly\"][\"wind_speed_10m\"],\n",
    "    \"rain\": weather_data[\"hourly\"][\"rain\"],\n",
    "    \"precipitation\": weather_data[\"hourly\"][\"precipitation\"]\n",
    "}\n",
    "df_meteo_data_filt = pd.DataFrame(di_meteo_data_filt)\n",
    "\n",
    "# convert type to datetime\n",
    "df_meteo_data_filt['datetime'] = pd.to_datetime(df_meteo_data_filt['datetime'])\n",
    "\n",
    "df_meteo_data_filt"
   ]
  },
  {
   "cell_type": "code",
   "execution_count": null,
   "metadata": {},
   "outputs": [],
   "source": [
    "# save to CSV\n",
    "df_meteo_data_filt.to_csv('weather_data.csv', index = False, sep = ';', encoding = 'utf-8')"
   ]
  }
 ],
 "metadata": {
  "kernelspec": {
   "display_name": ".venv",
   "language": "python",
   "name": "python3"
  },
  "language_info": {
   "codemirror_mode": {
    "name": "ipython",
    "version": 3
   },
   "file_extension": ".py",
   "mimetype": "text/x-python",
   "name": "python",
   "nbconvert_exporter": "python",
   "pygments_lexer": "ipython3",
   "version": "3.12.4"
  }
 },
 "nbformat": 4,
 "nbformat_minor": 2
}
