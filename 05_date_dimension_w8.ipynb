{
 "cells": [
  {
   "cell_type": "code",
   "execution_count": null,
   "metadata": {},
   "outputs": [],
   "source": [
    "# from datetime import datetime\n",
    "import pandas as pd\n",
    "%run \"00_common_res.ipynb\"\n",
    "import os\n",
    "%run func/df_to_csv.ipynb\n",
    "\n",
    "calendar_start = '2024-01-01'\n",
    "calendar_end = '2028-12-31'\n",
    "\n",
    "calendar_range = pd.date_range(calendar_start, calendar_end)\n",
    "\n",
    "df_calendar = pd.DataFrame(calendar_range, columns=['Date'])\n",
    "\n",
    "df_calendar.info()"
   ]
  },
  {
   "cell_type": "code",
   "execution_count": null,
   "metadata": {},
   "outputs": [],
   "source": [
    "\n",
    "df_calendar[\"year\"] = df_calendar[\"Date\"].dt.year \n",
    "df_calendar[\"month\"] = df_calendar[\"Date\"].dt.month\n",
    "df_calendar[\"day\"] = df_calendar[\"Date\"].dt.day\n",
    "df_calendar[\"day_of_week\"] = df_calendar[\"Date\"].dt.dayofweek + 1 \n",
    "df_calendar[\"is_weekend\"] = df_calendar[\"day_of_week\"].isin([6,7])\n",
    "\n",
    "df_export_to_csv(df_calendar, s_path_date, s_dir_data)"
   ]
  }
 ],
 "metadata": {
  "kernelspec": {
   "display_name": ".venv",
   "language": "python",
   "name": "python3"
  },
  "language_info": {
   "codemirror_mode": {
    "name": "ipython",
    "version": 3
   },
   "file_extension": ".py",
   "mimetype": "text/x-python",
   "name": "python",
   "nbconvert_exporter": "python",
   "pygments_lexer": "ipython3",
   "version": "3.12.4"
  }
 },
 "nbformat": 4,
 "nbformat_minor": 2
}
