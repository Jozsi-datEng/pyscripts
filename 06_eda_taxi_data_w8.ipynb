{
 "cells": [
  {
   "cell_type": "markdown",
   "metadata": {},
   "source": [
    "## Chicago portal taxi data EDA & transformation parts\n",
    "### Exploratory Data Analysis (Felfedező Adatelemzés) "
   ]
  },
  {
   "cell_type": "code",
   "execution_count": null,
   "metadata": {},
   "outputs": [],
   "source": [
    "import pandas as pd\n",
    "pd.set_option('display.max_columns', 30)\n",
    "import requests\n",
    "%run \"00_common_res.ipynb\"\n",
    "import os\n",
    "%run func/df_to_csv.ipynb\n",
    "\n",
    "# from datetime import datetime\n",
    "# from  dateutil.relativedelta import relativedelta\n",
    "# formatted_date = datetime.now().date() - relativedelta(months=2)"
   ]
  },
  {
   "cell_type": "code",
   "execution_count": null,
   "metadata": {},
   "outputs": [],
   "source": [
    "# get 1 day trip data from protal by API\n",
    "\n",
    "url_chportal_taxi_api = (f\"https://data.cityofchicago.org/resource/ajtu-isnz.json?\"\n",
    "    f\"$where=trip_start_timestamp >= '{formatted_date}T00:00:00' \"\n",
    "    f\"AND trip_start_timestamp <= '{formatted_date}T23:59:59'&$limit=30000\")\n",
    "\n",
    "res_chportal_api = requests.get(url_chportal_taxi_api)\n",
    "res_chportal_api\n"
   ]
  },
  {
   "cell_type": "code",
   "execution_count": null,
   "metadata": {},
   "outputs": [],
   "source": [
    "# format to json\n",
    "js_taxi_data = res_chportal_api.json()\n",
    "\n",
    "len(js_taxi_data)\n",
    "js_taxi_data"
   ]
  },
  {
   "cell_type": "code",
   "execution_count": null,
   "metadata": {},
   "outputs": [],
   "source": [
    "# last run size: 23017 record\n",
    "# print (len(js_taxi_data))"
   ]
  },
  {
   "cell_type": "code",
   "execution_count": null,
   "metadata": {},
   "outputs": [],
   "source": [
    "# convert json format data to dataFrame\n",
    "df_taxi_data =  pd.DataFrame (js_taxi_data)\n",
    "# save memory original memory alocaion\n",
    "i_df_taxi_data = int(df_taxi_data.memory_usage(deep=True).sum()/1024)\n",
    "\n",
    "df_taxi_data.head()"
   ]
  },
  {
   "cell_type": "code",
   "execution_count": null,
   "metadata": {},
   "outputs": [],
   "source": [
    "df_taxi_data [df_taxi_data[\"fare\"].isna()].sample(8)"
   ]
  },
  {
   "cell_type": "markdown",
   "metadata": {},
   "source": [
    "### Trasfomation part"
   ]
  },
  {
   "cell_type": "code",
   "execution_count": null,
   "metadata": {},
   "outputs": [],
   "source": [
    "# drop unnecessary columns\n",
    "df_taxi_data.drop([\"pickup_census_tract\", \"dropoff_census_tract\"], axis=1, inplace=True)\n",
    "df_taxi_data.drop([\"pickup_centroid_location\", \"dropoff_centroid_location\"], axis=1, inplace=True)\n",
    "\n",
    "df_taxi_data.info()"
   ]
  },
  {
   "cell_type": "code",
   "execution_count": null,
   "metadata": {},
   "outputs": [],
   "source": [
    "# drop rows that have missings\n",
    "df_taxi_data.dropna (inplace=True)"
   ]
  },
  {
   "cell_type": "code",
   "execution_count": null,
   "metadata": {},
   "outputs": [],
   "source": [
    "# renaming cols\n",
    "di_col_old_new = {\n",
    "    \"pickup_community_area\": \"pickup_community_area_id\", \n",
    "    \"dropoff_community_area\": \"dropoff_community_area_id\"\n",
    "    }\n",
    "df_taxi_data.rename (columns=di_col_old_new, inplace=True)\n",
    "\n",
    "df_taxi_data.columns"
   ]
  },
  {
   "cell_type": "code",
   "execution_count": null,
   "metadata": {},
   "outputs": [],
   "source": [
    "# create helper column\n",
    "df_taxi_data[\"datetime_for_weather\"] = pd.to_datetime(df_taxi_data[\"trip_start_timestamp\"])"
   ]
  },
  {
   "cell_type": "markdown",
   "metadata": {},
   "source": [
    "#### Dataframe column types definitions/conversions"
   ]
  },
  {
   "cell_type": "code",
   "execution_count": null,
   "metadata": {},
   "outputs": [],
   "source": [
    "# typing help :-)\n",
    "df_col_types = df_taxi_data.dtypes\n",
    "for s_colname in df_col_types.keys():\n",
    "    print(f'\"{s_colname}\": \"{df_col_types[s_colname]}\",')"
   ]
  },
  {
   "cell_type": "code",
   "execution_count": null,
   "metadata": {},
   "outputs": [],
   "source": [
    "# create dict with types def\n",
    "di_df_col_type = {\n",
    "    \"trip_id\": \"object\",\n",
    "    \"taxi_id\": \"object\",\n",
    "    \"trip_start_timestamp\": \"datetime64[ns]\",\n",
    "    \"trip_end_timestamp\": \"datetime64[ns]\",\n",
    "    \"trip_seconds\": \"int32\",\n",
    "    \"trip_miles\": \"float64\",\n",
    "    \"pickup_community_area_id\": \"int8\",\n",
    "    \"dropoff_community_area_id\": \"int8\",\n",
    "    \"fare\": \"float64\",\n",
    "    \"tips\": \"float64\",\n",
    "    \"tolls\": \"float64\",\n",
    "    \"extras\": \"float64\",\n",
    "    \"trip_total\": \"float64\",\n",
    "    \"payment_type\": \"object\",\n",
    "    \"company\": \"object\",\n",
    "    \"pickup_centroid_latitude\": \"object\",\n",
    "    \"pickup_centroid_longitude\": \"object\",\n",
    "    \"dropoff_centroid_latitude\": \"object\",\n",
    "    \"dropoff_centroid_longitude\": \"object\",\n",
    "    \"datetime_for_weather\": \"datetime64[ns]\"\n",
    "}\n",
    "\n",
    "# apply to dataFrame\n",
    "df_taxi_data = df_taxi_data.astype(di_df_col_type)\n",
    "\n",
    "df_taxi_data.info()\n"
   ]
  },
  {
   "cell_type": "code",
   "execution_count": null,
   "metadata": {},
   "outputs": [],
   "source": [
    "# time rounding\n",
    "df_taxi_data[\"datetime_for_weather\"] = df_taxi_data[\"datetime_for_weather\"].dt.floor(\"h\")\n",
    "\n",
    "df_taxi_data.sample(5)"
   ]
  },
  {
   "cell_type": "markdown",
   "metadata": {},
   "source": [
    "#### Testing the joining trips and weather data"
   ]
  },
  {
   "cell_type": "code",
   "execution_count": null,
   "metadata": {},
   "outputs": [],
   "source": [
    "# get meteto data\n",
    "url = \"https://archive-api.open-meteo.com/v1/era5\"\n",
    "\n",
    "di_params = {\n",
    "\"latitude\": 41.85,\n",
    "\"longitude\": -87.65,\n",
    "\"start_date\": formatted_date,\n",
    "\"end_date\": formatted_date,\n",
    "\"hourly\": \"temperature_2m,wind_speed_10m,rain,precipitation\"\n",
    "}\n",
    "\n",
    "response = requests.get(url, params=di_params)\n",
    "js_weather_data = response.json()\n",
    "\n",
    "# selected data to dataFrame\n",
    "di_meteo_data_filt = {\n",
    "    \"datetime\": js_weather_data[\"hourly\"][\"time\"],\n",
    "    \"tempretaure\": js_weather_data[\"hourly\"][\"temperature_2m\"],\n",
    "    \"wind_speed\": js_weather_data[\"hourly\"][\"wind_speed_10m\"],\n",
    "    \"rain\": js_weather_data[\"hourly\"][\"rain\"],\n",
    "    \"precipitation\": js_weather_data[\"hourly\"][\"precipitation\"]\n",
    "}\n",
    "df_meteo_data_filt = pd.DataFrame(di_meteo_data_filt)\n",
    "\n",
    "# convert type to datetime\n",
    "df_meteo_data_filt['datetime'] = pd.to_datetime(df_meteo_data_filt['datetime'])\n",
    "\n",
    "df_meteo_data_filt.head(2)"
   ]
  },
  {
   "cell_type": "code",
   "execution_count": null,
   "metadata": {},
   "outputs": [],
   "source": [
    "# join meteo to taxi frame\n",
    "df_taxi_meteo_data = df_taxi_data.merge(df_meteo_data_filt, left_on='datetime_for_weather', right_on='datetime')\n",
    "\n",
    "df_taxi_meteo_data.head(3)"
   ]
  },
  {
   "cell_type": "markdown",
   "metadata": {},
   "source": [
    "#### Sanity cheks"
   ]
  },
  {
   "cell_type": "code",
   "execution_count": null,
   "metadata": {},
   "outputs": [],
   "source": [
    "# memory usage check\n",
    "print (\"df_taxi_data creation memory usage:\", i_df_taxi_data, \"Kbyte\")\n",
    "print (\"df_taxi_data cleaned, optimised memory usage:\", int(df_taxi_data.memory_usage(deep=True).sum()/1024), \"Kbyte\")"
   ]
  },
  {
   "cell_type": "code",
   "execution_count": null,
   "metadata": {},
   "outputs": [],
   "source": [
    "# trip end time check\n",
    "df_taxi_data [df_taxi_data ['trip_end_timestamp'] == df_taxi_data ['trip_end_timestamp'].max()]"
   ]
  },
  {
   "cell_type": "code",
   "execution_count": null,
   "metadata": {},
   "outputs": [],
   "source": [
    "# longest trip time \n",
    "df_taxi_data [df_taxi_data ['trip_seconds'] == df_taxi_data ['trip_seconds'].max()]"
   ]
  },
  {
   "cell_type": "code",
   "execution_count": null,
   "metadata": {},
   "outputs": [],
   "source": [
    "# max fares\n",
    "df_taxi_data [df_taxi_data ['fare'] == df_taxi_data ['fare'].max()]"
   ]
  },
  {
   "cell_type": "code",
   "execution_count": null,
   "metadata": {},
   "outputs": [],
   "source": [
    "# n largest fares\n",
    "df_taxi_data.nlargest(5, \"fare\")"
   ]
  },
  {
   "cell_type": "code",
   "execution_count": null,
   "metadata": {},
   "outputs": [],
   "source": [
    "# examine the column data\n",
    "print(df_taxi_data['payment_type'].info())\n",
    "df_taxi_data['payment_type'].unique()"
   ]
  },
  {
   "cell_type": "code",
   "execution_count": null,
   "metadata": {},
   "outputs": [],
   "source": [
    "# First test\n",
    "# create sorted unique extract\n",
    "df_payment_types = df_taxi_data['payment_type'].drop_duplicates()\n",
    "df_payment_types.sort_values(ignore_index=True) \n",
    "\n",
    "# create dim table\n",
    "df_payment_types = pd.DataFrame(\n",
    "    {\n",
    "        'payment_type_id': range(1, len(df_payment_types)+1), # create range for ID\n",
    "        'payment_type': df_payment_types\n",
    "\n",
    "    }\n",
    ")\n",
    "\n",
    "df_payment_types"
   ]
  },
  {
   "cell_type": "code",
   "execution_count": null,
   "metadata": {},
   "outputs": [],
   "source": [
    "# define column & dim table names to generate\n",
    "ls_dim_names = [\n",
    "        ['payment_type', 'df_payment_types'],\n",
    "        ['company', 'df_companys']\n",
    "    ]\n",
    "\n",
    "# craete dim tables\n",
    "for ls_dim_names_row in ls_dim_names:\n",
    "    # generate unique extracts\n",
    "    df_dim_tmp = df_taxi_data[ls_dim_names_row[0]].drop_duplicates()\n",
    "    df_dim_tmp = df_dim_tmp.sort_values(ignore_index=True)\n",
    "\n",
    "    # create dim table\n",
    "    df_dim_tmp = pd.DataFrame(\n",
    "        {\n",
    "            f'{ls_dim_names_row[0]}_id': range(1, len(df_dim_tmp)+1), # create range for ID\n",
    "            ls_dim_names_row[0]: df_dim_tmp\n",
    "\n",
    "        }\n",
    "    )\n",
    "    # rename dataFrame\n",
    "    globals()[ls_dim_names_row[1]] = df_dim_tmp\n",
    "    s_path_dim = s_path_sep.join([s_base_path, s_dir_data, ls_dim_names_row[1]+'.csv'])\n",
    "    df_export_to_csv(df_dim_tmp, s_path_dim, s_dir_data)\n"
   ]
  }
 ],
 "metadata": {
  "kernelspec": {
   "display_name": ".venv",
   "language": "python",
   "name": "python3"
  },
  "language_info": {
   "codemirror_mode": {
    "name": "ipython",
    "version": 3
   },
   "file_extension": ".py",
   "mimetype": "text/x-python",
   "name": "python",
   "nbconvert_exporter": "python",
   "pygments_lexer": "ipython3",
   "version": "3.12.4"
  }
 },
 "nbformat": 4,
 "nbformat_minor": 2
}
