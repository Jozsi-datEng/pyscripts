{
 "cells": [
  {
   "cell_type": "code",
   "execution_count": null,
   "metadata": {},
   "outputs": [],
   "source": [
    "import pandas as pd\n",
    "pd.set_option('display.max_columns', 30)\n",
    "import requests\n",
    "%run \"00_common_res.ipynb\"\n",
    "import os\n",
    "%run func/df_to_csv.ipynb"
   ]
  },
  {
   "cell_type": "code",
   "execution_count": null,
   "metadata": {},
   "outputs": [],
   "source": [
    "\"\"\"\n",
    "steps\n",
    "1. get data from S3\n",
    "2. wheater data transfommations\n",
    "3. taxi data transfommations\n",
    "4. update payment types table\n",
    "5. update companys table\n",
    "6. update taxi data with company and payment types ids (replace strings with id from latest tables)\n",
    "7-8. upload taxi and weather data to s3\n",
    "9. upload new company and payment types table to s3\n",
    "\"\"\""
   ]
  },
  {
   "cell_type": "markdown",
   "metadata": {},
   "source": [
    "### get data"
   ]
  },
  {
   "cell_type": "code",
   "execution_count": null,
   "metadata": {},
   "outputs": [],
   "source": [
    "# get 1 day trip data from protal by API\n",
    "url_chportal_taxi_api = (f\"https://data.cityofchicago.org/resource/ajtu-isnz.json?\"\n",
    "    f\"$where=trip_start_timestamp >= '{formatted_date}T00:00:00' \"\n",
    "    f\"AND trip_start_timestamp <= '{formatted_date}T23:59:59'&$limit=30000\")\n",
    "res_chportal_api = requests.get(url_chportal_taxi_api)\n",
    "# format to json\n",
    "js_taxi_data = res_chportal_api.json()\n",
    "# convert json format data to dataFrame\n",
    "df_taxi_data =  pd.DataFrame (js_taxi_data)"
   ]
  },
  {
   "cell_type": "markdown",
   "metadata": {},
   "source": [
    "### Trasfomation part"
   ]
  },
  {
   "cell_type": "code",
   "execution_count": null,
   "metadata": {},
   "outputs": [],
   "source": [
    "# drop empty columns\n",
    "df_taxi_data.drop([\"pickup_census_tract\", \"dropoff_census_tract\"], axis=1, inplace=True)\n",
    "df_taxi_data.drop([\"pickup_centroid_location\", \"dropoff_centroid_location\"], axis=1, inplace=True)"
   ]
  },
  {
   "cell_type": "code",
   "execution_count": null,
   "metadata": {},
   "outputs": [],
   "source": [
    "# drop rows that have missings\n",
    "df_taxi_data.dropna(inplace=True) "
   ]
  },
  {
   "cell_type": "code",
   "execution_count": null,
   "metadata": {},
   "outputs": [],
   "source": [
    "# renaming cols\n",
    "di_col_old_new = {\n",
    "    \"pickup_community_area\": \"pickup_community_area_id\", \n",
    "    \"dropoff_community_area\": \"dropoff_community_area_id\"\n",
    "    }\n",
    "df_taxi_data.rename (columns=di_col_old_new, inplace=True)"
   ]
  },
  {
   "cell_type": "code",
   "execution_count": null,
   "metadata": {},
   "outputs": [],
   "source": [
    "# create helper column\n",
    "df_taxi_data[\"datetime_for_weather\"] = pd.to_datetime(df_taxi_data[\"trip_start_timestamp\"])"
   ]
  },
  {
   "cell_type": "code",
   "execution_count": null,
   "metadata": {},
   "outputs": [],
   "source": [
    "df_taxi_data.head()"
   ]
  },
  {
   "cell_type": "markdown",
   "metadata": {},
   "source": [
    "#### taxi data transformation function"
   ]
  },
  {
   "cell_type": "code",
   "execution_count": null,
   "metadata": {},
   "outputs": [],
   "source": [
    "def taxi_data_transformations(df_taxi_data):\n",
    "    \"\"\" taxi_data_transformations\n",
    "    ver: v1.0\n",
    "    Params:\n",
    "        df_taxi_data (df): taxi data\n",
    "    Returns:\n",
    "        df: cleaned a trasform taxi data\n",
    "    requirements:\n",
    "        module(s): pandas\n",
    "    \"\"\"\n",
    "    # drop empty columns\n",
    "    df_taxi_data.drop([\"pickup_census_tract\", \"dropoff_census_tract\", \"pickup_centroid_location\", \"dropoff_centroid_location\"], axis=1, inplace=True)\n",
    "    # drop rows that have missings\n",
    "    df_taxi_data.dropna(inplace=True) \n",
    "    # renaming cols\n",
    "    di_col_old_new = {\n",
    "        \"pickup_community_area\": \"pickup_community_area_id\", \n",
    "        \"dropoff_community_area\": \"dropoff_community_area_id\"\n",
    "        }\n",
    "    df_taxi_data.rename (columns=di_col_old_new, inplace=True)\n",
    "    # create helper column\n",
    "    df_taxi_data[\"datetime_for_weather\"] = pd.to_datetime(df_taxi_data[\"trip_start_timestamp\"])\n",
    "    \n",
    "    return df_taxi_data"
   ]
  },
  {
   "cell_type": "markdown",
   "metadata": {},
   "source": []
  }
 ],
 "metadata": {
  "kernelspec": {
   "display_name": ".venv",
   "language": "python",
   "name": "python3"
  },
  "language_info": {
   "codemirror_mode": {
    "name": "ipython",
    "version": 3
   },
   "file_extension": ".py",
   "mimetype": "text/x-python",
   "name": "python",
   "nbconvert_exporter": "python",
   "pygments_lexer": "ipython3",
   "version": "3.12.4"
  }
 },
 "nbformat": 4,
 "nbformat_minor": 2
}
