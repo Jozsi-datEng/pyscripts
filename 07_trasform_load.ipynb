{
 "cells": [
  {
   "cell_type": "code",
   "execution_count": null,
   "metadata": {},
   "outputs": [],
   "source": [
    "import pandas as pd\n",
    "pd.set_option('display.max_columns', 30)\n",
    "import requests\n",
    "%run \"00_common_res.ipynb\"\n",
    "import os\n",
    "%run func/df_to_csv.ipynb"
   ]
  },
  {
   "cell_type": "code",
   "execution_count": null,
   "metadata": {},
   "outputs": [],
   "source": [
    "\"\"\"\n",
    "steps\n",
    "1. get data from S3\n",
    "2. wheater data transfommations\n",
    "3. taxi data transfommations\n",
    "4. update payment types table\n",
    "5. update companys table\n",
    "6. update taxi data with company and payment types ids (replace strings with id from latest tables)\n",
    "7-8. upload taxi and weather data to s3\n",
    "9. upload new company and payment types table to s3\n",
    "\"\"\""
   ]
  }
 ],
 "metadata": {
  "language_info": {
   "name": "python"
  }
 },
 "nbformat": 4,
 "nbformat_minor": 2
}
