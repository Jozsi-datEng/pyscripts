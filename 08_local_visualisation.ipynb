{
 "cells": [
  {
   "cell_type": "code",
   "execution_count": 1,
   "metadata": {},
   "outputs": [],
   "source": [
    "import pandas as pd\n",
    "from my_s3_func import *\n"
   ]
  },
  {
   "cell_type": "code",
   "execution_count": 2,
   "metadata": {},
   "outputs": [],
   "source": [
    "# my s3 global variables\n",
    "s_mybucket = \"jozsi-chicago-taxi-bb\"\n",
    "pathdir_proc_taxi = 'raw_data/to_process/taxi_data/'\n",
    "pathdir_processed_taxi = 'raw_data/processed/taxi_data/'\n",
    "pathdir_transf_taxi = 'transfomed_data/taxi_data/'\n",
    "pathdir_proc_wheater = 'raw_data/to_process/weather_data/'\n",
    "pathdir_processed_wheater = 'raw_data/processed/weather_data/'\n",
    "pathdir_transf_wheater = 'transfomed_data/weather_data/'\n",
    "pathdir_pay_type_master = 'transfomed_data/payment_type/'\n",
    "pathdir_company_master = 'transfomed_data/company/'\n",
    "pathdir_prev_masters = 'transfomed_data/master_table_previous_version/'\n",
    "pathdir_areas =  'transfomed_data/community_areas/'\n",
    "pathdir_date = 'transfomed_data/date/'\n",
    "\n",
    "s_pay_types = 'payment_types.csv'\n",
    "s_companies = 'companies.csv'\n",
    "s_taxi_data = 'taxi_data.csv'\n",
    "s_wheater_data = 'wheater_data.csv'\n",
    "s_areas = 'community_areas.csv'\n",
    "s_date = 'date.csv'\n",
    "\n",
    "s_aws_id = os.getenv('AWS_ACCESS_ID')\n",
    "s_aws_key = os.getenv('AWS_SEC_KEY')"
   ]
  },
  {
   "cell_type": "markdown",
   "metadata": {},
   "source": [
    "### get data from s3"
   ]
  },
  {
   "cell_type": "code",
   "execution_count": 3,
   "metadata": {},
   "outputs": [],
   "source": [
    "# single files\n",
    "# def object list\n",
    "ls_path_file = [\n",
    "    [pathdir_areas,s_areas],\n",
    "    [pathdir_company_master, s_companies],\n",
    "    [pathdir_date, s_date],\n",
    "    [pathdir_pay_type_master, s_pay_types],\n",
    "    ]\n",
    "\n",
    "# get files from s3, a load to dynamic generate global dataframe variables\n",
    "for s_path, s_file in ls_path_file:\n",
    "    globals()['df_'+s_file.replace('.csv', '')] = load_s3_csv_to_df(s_bucket=s_mybucket, path_file=s_path+s_file, s_access_id=s_aws_id, s_sec_key=s_aws_key )\n"
   ]
  }
 ],
 "metadata": {
  "kernelspec": {
   "display_name": ".venv",
   "language": "python",
   "name": "python3"
  },
  "language_info": {
   "codemirror_mode": {
    "name": "ipython",
    "version": 3
   },
   "file_extension": ".py",
   "mimetype": "text/x-python",
   "name": "python",
   "nbconvert_exporter": "python",
   "pygments_lexer": "ipython3",
   "version": "3.12.4"
  }
 },
 "nbformat": 4,
 "nbformat_minor": 2
}
