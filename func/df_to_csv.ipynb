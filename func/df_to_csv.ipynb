{
 "cells": [
  {
   "cell_type": "code",
   "execution_count": 1,
   "metadata": {},
   "outputs": [],
   "source": [
    "\n",
    "def df_export_to_csv(df_export_csv, s_path_file='', s_path_dir=''):\n",
    "    \"\"\"DataFrame export into csv file, (sub)folder creation if needed\n",
    "    ver: 1.1\n",
    "    Params:\n",
    "        df_export_csv (df): data to export\n",
    "        s_path_file (str): full file path = ''\n",
    "        s_path_dir (str): folder to create (if need) and export = ''\n",
    "    requirements:\n",
    "        module(s): os, pandas\n",
    "    \"\"\"\n",
    "    s_my_name = 'df_export_to_csv'\n",
    "    try:\n",
    "        os.makedirs(s_path_dir, exist_ok=True)\n",
    "    except OSError as e:\n",
    "        print (f'Function {s_my_name} error: The {s_path_dir} folder cannot be created!, {e}')\n",
    "        return\n",
    "    try:\n",
    "        df_export_csv.to_csv(s_path_file, index = False, sep = ';', encoding = 'utf-8')\n",
    "        print(f'Function {s_my_name}: The {s_path_file} file write was successful')\n",
    "    except Exception as e:\n",
    "        print (f'Function {s_my_name} error: The {s_path_file} file cannot be write!, {e}')\n"
   ]
  }
 ],
 "metadata": {
  "kernelspec": {
   "display_name": ".venv",
   "language": "python",
   "name": "python3"
  },
  "language_info": {
   "codemirror_mode": {
    "name": "ipython",
    "version": 3
   },
   "file_extension": ".py",
   "mimetype": "text/x-python",
   "name": "python",
   "nbconvert_exporter": "python",
   "pygments_lexer": "ipython3",
   "version": "3.12.4"
  }
 },
 "nbformat": 4,
 "nbformat_minor": 2
}
