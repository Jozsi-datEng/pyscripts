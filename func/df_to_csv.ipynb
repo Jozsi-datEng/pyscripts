{
 "cells": [
  {
   "cell_type": "code",
   "execution_count": 1,
   "metadata": {},
   "outputs": [],
   "source": [
    "# DataFrame export into csv file, (sub)folder creation if needed\n",
    "# ver: v1.0\n",
    "# parameters in:\n",
    "#   df_export_csv\n",
    "#   s_path_file (full path inc. filename)\n",
    "#   s_path_dir (full path to creation, optional) \n",
    "# return: result messeage\n",
    "# required module(s): Pandas, os\n",
    "\n",
    "def df_export_to_csv(df_export_csv, s_path_file='', s_path_dir=''):\n",
    "    s_my_name = 'df_export_to_csv'\n",
    "    try:\n",
    "        os.makedirs(s_path_dir, exist_ok=True)\n",
    "        # print(f'Function {s_my_name}: The {s_path_dir} folder created')\n",
    "    except:\n",
    "        print (f'Function {s_my_name} error: The {s_path_dir} folder cannot be create!')\n",
    "        return\n",
    "    try:\n",
    "        df_export_csv.to_csv(s_path_file, index = False, sep = ';', encoding = 'utf-8')\n",
    "        print(f'Function {s_my_name}: The {s_path_file} file write was successful')\n",
    "    except:\n",
    "        print (f'Function {s_my_name} error: The {s_path_file} file cannot be write!')\n",
    "\n"
   ]
  }
 ],
 "metadata": {
  "kernelspec": {
   "display_name": ".venv",
   "language": "python",
   "name": "python3"
  },
  "language_info": {
   "codemirror_mode": {
    "name": "ipython",
    "version": 3
   },
   "file_extension": ".py",
   "mimetype": "text/x-python",
   "name": "python",
   "nbconvert_exporter": "python",
   "pygments_lexer": "ipython3",
   "version": "3.12.4"
  }
 },
 "nbformat": 4,
 "nbformat_minor": 2
}
